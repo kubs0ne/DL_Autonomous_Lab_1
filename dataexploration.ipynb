{
 "cells": [
  {
   "cell_type": "code",
   "execution_count": 1,
   "metadata": {},
   "outputs": [],
   "source": [
    "import os\n",
    "import pandas as pd\n",
    "import numpy as np\n",
    "import DataGenerator"
   ]
  },
  {
   "cell_type": "code",
   "execution_count": 7,
   "metadata": {},
   "outputs": [
    {
     "data": {
      "text/html": [
       "<div>\n",
       "<style scoped>\n",
       "    .dataframe tbody tr th:only-of-type {\n",
       "        vertical-align: middle;\n",
       "    }\n",
       "\n",
       "    .dataframe tbody tr th {\n",
       "        vertical-align: top;\n",
       "    }\n",
       "\n",
       "    .dataframe thead th {\n",
       "        text-align: right;\n",
       "    }\n",
       "</style>\n",
       "<table border=\"1\" class=\"dataframe\">\n",
       "  <thead>\n",
       "    <tr style=\"text-align: right;\">\n",
       "      <th></th>\n",
       "      <th>Image file</th>\n",
       "      <th>Medium</th>\n",
       "      <th>Museum</th>\n",
       "      <th>Museum-based instance ID</th>\n",
       "      <th>Subset</th>\n",
       "      <th>Width</th>\n",
       "      <th>Height</th>\n",
       "      <th>Product size</th>\n",
       "      <th>Aspect ratio</th>\n",
       "    </tr>\n",
       "  </thead>\n",
       "  <tbody>\n",
       "    <tr>\n",
       "      <th>0</th>\n",
       "      <td>436018.jpg</td>\n",
       "      <td>Oil on canvas</td>\n",
       "      <td>Metropolitan Museum of Art</td>\n",
       "      <td>29.100.60</td>\n",
       "      <td>train</td>\n",
       "      <td>3144.0</td>\n",
       "      <td>3840.0</td>\n",
       "      <td>12072960.0</td>\n",
       "      <td>0.8187</td>\n",
       "    </tr>\n",
       "    <tr>\n",
       "      <th>1</th>\n",
       "      <td>11779.jpg</td>\n",
       "      <td>Oil on canvas</td>\n",
       "      <td>Metropolitan Museum of Art</td>\n",
       "      <td>1982.373</td>\n",
       "      <td>train</td>\n",
       "      <td>1707.0</td>\n",
       "      <td>2136.0</td>\n",
       "      <td>3646152.0</td>\n",
       "      <td>0.7992</td>\n",
       "    </tr>\n",
       "    <tr>\n",
       "      <th>2</th>\n",
       "      <td>19022.jpg</td>\n",
       "      <td>Oil on canvas</td>\n",
       "      <td>Metropolitan Museum of Art</td>\n",
       "      <td>2006.418</td>\n",
       "      <td>train</td>\n",
       "      <td>2845.0</td>\n",
       "      <td>3811.0</td>\n",
       "      <td>10842295.0</td>\n",
       "      <td>0.7465</td>\n",
       "    </tr>\n",
       "    <tr>\n",
       "      <th>3</th>\n",
       "      <td>435883.jpg</td>\n",
       "      <td>Oil on canvas</td>\n",
       "      <td>Metropolitan Museum of Art</td>\n",
       "      <td>61.101.3</td>\n",
       "      <td>train</td>\n",
       "      <td>3811.0</td>\n",
       "      <td>2916.0</td>\n",
       "      <td>11112876.0</td>\n",
       "      <td>1.3069</td>\n",
       "    </tr>\n",
       "    <tr>\n",
       "      <th>4</th>\n",
       "      <td>10481.jpg</td>\n",
       "      <td>Oil on canvas</td>\n",
       "      <td>Metropolitan Museum of Art</td>\n",
       "      <td>09.95</td>\n",
       "      <td>train</td>\n",
       "      <td>3811.0</td>\n",
       "      <td>2099.0</td>\n",
       "      <td>7999289.0</td>\n",
       "      <td>1.8156</td>\n",
       "    </tr>\n",
       "  </tbody>\n",
       "</table>\n",
       "</div>"
      ],
      "text/plain": [
       "   Image file         Medium                      Museum  \\\n",
       "0  436018.jpg  Oil on canvas  Metropolitan Museum of Art   \n",
       "1   11779.jpg  Oil on canvas  Metropolitan Museum of Art   \n",
       "2   19022.jpg  Oil on canvas  Metropolitan Museum of Art   \n",
       "3  435883.jpg  Oil on canvas  Metropolitan Museum of Art   \n",
       "4   10481.jpg  Oil on canvas  Metropolitan Museum of Art   \n",
       "\n",
       "  Museum-based instance ID Subset   Width  Height  Product size  Aspect ratio  \n",
       "0                29.100.60  train  3144.0  3840.0    12072960.0        0.8187  \n",
       "1                 1982.373  train  1707.0  2136.0     3646152.0        0.7992  \n",
       "2                 2006.418  train  2845.0  3811.0    10842295.0        0.7465  \n",
       "3                 61.101.3  train  3811.0  2916.0    11112876.0        1.3069  \n",
       "4                    09.95  train  3811.0  2099.0     7999289.0        1.8156  "
      ]
     },
     "execution_count": 7,
     "metadata": {},
     "output_type": "execute_result"
    }
   ],
   "source": [
    "data = pd.read_csv('MAMe_metadata/MAMe_dataset.csv')\n",
    "data.head()"
   ]
  },
  {
   "cell_type": "code",
   "execution_count": 14,
   "metadata": {},
   "outputs": [
    {
     "name": "stdout",
     "output_type": "stream",
     "text": [
      "Train: 20300\n",
      "Test: 15657\n",
      "Validation: 1450\n"
     ]
    }
   ],
   "source": [
    "print( 'Train: ' + str(len(data[data['Subset']=='train'])))\n",
    "print( 'Test: ' + str(len(data[data['Subset']=='test'])))\n",
    "print( 'Validation: ' + str(len(data[data['Subset']=='val'])))"
   ]
  },
  {
   "cell_type": "code",
   "execution_count": 15,
   "metadata": {},
   "outputs": [
    {
     "data": {
      "text/html": [
       "<div>\n",
       "<style scoped>\n",
       "    .dataframe tbody tr th:only-of-type {\n",
       "        vertical-align: middle;\n",
       "    }\n",
       "\n",
       "    .dataframe tbody tr th {\n",
       "        vertical-align: top;\n",
       "    }\n",
       "\n",
       "    .dataframe thead th {\n",
       "        text-align: right;\n",
       "    }\n",
       "</style>\n",
       "<table border=\"1\" class=\"dataframe\">\n",
       "  <thead>\n",
       "    <tr style=\"text-align: right;\">\n",
       "      <th></th>\n",
       "      <th>Width</th>\n",
       "      <th>Height</th>\n",
       "      <th>Product size</th>\n",
       "      <th>Aspect ratio</th>\n",
       "    </tr>\n",
       "  </thead>\n",
       "  <tbody>\n",
       "    <tr>\n",
       "      <th>count</th>\n",
       "      <td>37407.000000</td>\n",
       "      <td>37407.000000</td>\n",
       "      <td>3.740700e+04</td>\n",
       "      <td>37407.000000</td>\n",
       "    </tr>\n",
       "    <tr>\n",
       "      <th>mean</th>\n",
       "      <td>2841.856711</td>\n",
       "      <td>2995.828936</td>\n",
       "      <td>1.032388e+07</td>\n",
       "      <td>1.028169</td>\n",
       "    </tr>\n",
       "    <tr>\n",
       "      <th>std</th>\n",
       "      <td>1573.004179</td>\n",
       "      <td>1601.247010</td>\n",
       "      <td>1.231509e+07</td>\n",
       "      <td>0.478613</td>\n",
       "    </tr>\n",
       "    <tr>\n",
       "      <th>min</th>\n",
       "      <td>224.000000</td>\n",
       "      <td>235.000000</td>\n",
       "      <td>2.502400e+05</td>\n",
       "      <td>0.112300</td>\n",
       "    </tr>\n",
       "    <tr>\n",
       "      <th>25%</th>\n",
       "      <td>1824.000000</td>\n",
       "      <td>1918.500000</td>\n",
       "      <td>3.408000e+06</td>\n",
       "      <td>0.704100</td>\n",
       "    </tr>\n",
       "    <tr>\n",
       "      <th>50%</th>\n",
       "      <td>2667.000000</td>\n",
       "      <td>2900.000000</td>\n",
       "      <td>8.104191e+06</td>\n",
       "      <td>0.910500</td>\n",
       "    </tr>\n",
       "    <tr>\n",
       "      <th>75%</th>\n",
       "      <td>3773.000000</td>\n",
       "      <td>3842.000000</td>\n",
       "      <td>1.209547e+07</td>\n",
       "      <td>1.303550</td>\n",
       "    </tr>\n",
       "    <tr>\n",
       "      <th>max</th>\n",
       "      <td>32683.000000</td>\n",
       "      <td>23577.000000</td>\n",
       "      <td>3.729784e+08</td>\n",
       "      <td>15.001900</td>\n",
       "    </tr>\n",
       "  </tbody>\n",
       "</table>\n",
       "</div>"
      ],
      "text/plain": [
       "              Width        Height  Product size  Aspect ratio\n",
       "count  37407.000000  37407.000000  3.740700e+04  37407.000000\n",
       "mean    2841.856711   2995.828936  1.032388e+07      1.028169\n",
       "std     1573.004179   1601.247010  1.231509e+07      0.478613\n",
       "min      224.000000    235.000000  2.502400e+05      0.112300\n",
       "25%     1824.000000   1918.500000  3.408000e+06      0.704100\n",
       "50%     2667.000000   2900.000000  8.104191e+06      0.910500\n",
       "75%     3773.000000   3842.000000  1.209547e+07      1.303550\n",
       "max    32683.000000  23577.000000  3.729784e+08     15.001900"
      ]
     },
     "execution_count": 15,
     "metadata": {},
     "output_type": "execute_result"
    }
   ],
   "source": [
    "data.describe()"
   ]
  },
  {
   "cell_type": "code",
   "execution_count": 23,
   "metadata": {},
   "outputs": [
    {
     "data": {
      "text/plain": [
       "<AxesSubplot:>"
      ]
     },
     "execution_count": 23,
     "metadata": {},
     "output_type": "execute_result"
    },
    {
     "data": {
      "image/png": "[encoded data removed]",
      "text/plain": [
       "<Figure size 432x288 with 1 Axes>"
      ]
     },
     "metadata": {
      "needs_background": "light"
     },
     "output_type": "display_data"
    }
   ],
   "source": [
    "counts = data['Medium'].value_counts()\n",
    "counts.plot.bar()"
   ]
  }
 ],
 "metadata": {
  "interpreter": {
   "hash": "aee8b7b246df8f9039afb4144a1f6fd8d2ca17a180786b69acc140d282b71a49"
  },
  "kernelspec": {
   "display_name": "Python 3.10.2 64-bit",
   "language": "python",
   "name": "python3"
  },
  "language_info": {
   "codemirror_mode": {
    "name": "ipython",
    "version": 3
   },
   "file_extension": ".py",
   "mimetype": "text/x-python",
   "name": "python",
   "nbconvert_exporter": "python",
   "pygments_lexer": "ipython3",
   "version": "3.10.2"
  },
  "orig_nbformat": 4
 },
 "nbformat": 4,
 "nbformat_minor": 2
}
